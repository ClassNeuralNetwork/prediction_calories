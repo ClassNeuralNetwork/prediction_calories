{
 "cells": [
  {
   "cell_type": "code",
   "execution_count": null,
   "metadata": {},
   "outputs": [],
   "source": [
    "import numpy as np\n",
    "import pandas as pd\n",
    "import matplotlib.pyplot as plt\n",
    "from sklearn.preprocessing import StandardScaler\n",
    "from sklearn.metrics import mean_squared_error, mean_absolute_error, r2_score\n",
    "import tensorflow as tf\n",
    "import shap\n",
    "\n",
    "\n",
    "model = tf.keras.models.load_model('/home/cleanio/Documentos/Topicos Especiais/projeto/prediction_calories/prediction_calories/model/model.keras')\n",
    "\n",
    "\n",
    "selected_feature = ['water_g', 'lipid_g', 'ash_g', 'carbohydrates_g',\n",
    "       'fiber_g', 'calcium_mg', 'potassium_mg', 'sodium_mg',\n",
    "       'saturated_fat_g', 'monounsaturated_fat_g']\n",
    "\n",
    "\n",
    "input_test = pd.read_csv('/home/cleanio/Documentos/Topicos Especiais/projeto/prediction_calories/prediction_calories/dataset/test/input_test_standard.csv', header=0, names=selected_feature)\n",
    "input_train = pd.read_csv('/home/cleanio/Documentos/Topicos Especiais/projeto/prediction_calories/prediction_calories/dataset/train/input_train_standard.csv', header=0, names=selected_feature)\n",
    "output_test = pd.read_csv('/home/cleanio/Documentos/Topicos Especiais/projeto/prediction_calories/prediction_calories/dataset/test/output_test.csv')\n",
    "\n",
    "\n",
    "explainer = shap.KernelExplainer(model.predict, input_train)\n",
    "\n",
    "\n",
    "shap_values = explainer.shap_values(input_test)\n"
   ]
  },
  {
   "cell_type": "code",
   "execution_count": 3,
   "metadata": {},
   "outputs": [
    {
     "ename": "NameError",
     "evalue": "name 'shap' is not defined",
     "output_type": "error",
     "traceback": [
      "\u001b[0;31m---------------------------------------------------------------------------\u001b[0m",
      "\u001b[0;31mNameError\u001b[0m                                 Traceback (most recent call last)",
      "Cell \u001b[0;32mIn[3], line 1\u001b[0m\n\u001b[0;32m----> 1\u001b[0m \u001b[43mshap\u001b[49m\u001b[38;5;241m.\u001b[39msummary_plot(shap_values[:,:,\u001b[38;5;241m0\u001b[39m], input_test, plot_type\u001b[38;5;241m=\u001b[39m\u001b[38;5;124m'\u001b[39m\u001b[38;5;124mbar\u001b[39m\u001b[38;5;124m'\u001b[39m, feature_names\u001b[38;5;241m=\u001b[39minput_test\u001b[38;5;241m.\u001b[39mcolumns)\n",
      "\u001b[0;31mNameError\u001b[0m: name 'shap' is not defined"
     ]
    }
   ],
   "source": [
    "\n",
    "shap.summary_plot(shap_values[:,:,0], input_test, plot_type='bar', feature_names=input_test.columns)"
   ]
  },
  {
   "cell_type": "code",
   "execution_count": 1,
   "metadata": {},
   "outputs": [
    {
     "ename": "NameError",
     "evalue": "name 'shap' is not defined",
     "output_type": "error",
     "traceback": [
      "\u001b[0;31m---------------------------------------------------------------------------\u001b[0m",
      "\u001b[0;31mNameError\u001b[0m                                 Traceback (most recent call last)",
      "Cell \u001b[0;32mIn[1], line 1\u001b[0m\n\u001b[0;32m----> 1\u001b[0m \u001b[43mshap\u001b[49m\u001b[38;5;241m.\u001b[39msummary_plot(shap_values[:,:,\u001b[38;5;241m0\u001b[39m], input_test, feature_names\u001b[38;5;241m=\u001b[39minput_test\u001b[38;5;241m.\u001b[39mcolumns)\n",
      "\u001b[0;31mNameError\u001b[0m: name 'shap' is not defined"
     ]
    }
   ],
   "source": [
    "shap.summary_plot(shap_values[:,:,0], input_test, feature_names=input_test.columns)"
   ]
  },
  {
   "cell_type": "code",
   "execution_count": 2,
   "metadata": {},
   "outputs": [
    {
     "ename": "NameError",
     "evalue": "name 'shap' is not defined",
     "output_type": "error",
     "traceback": [
      "\u001b[0;31m---------------------------------------------------------------------------\u001b[0m",
      "\u001b[0;31mNameError\u001b[0m                                 Traceback (most recent call last)",
      "Cell \u001b[0;32mIn[2], line 1\u001b[0m\n\u001b[0;32m----> 1\u001b[0m \u001b[43mshap\u001b[49m\u001b[38;5;241m.\u001b[39mdependence_plot(\u001b[38;5;124m'\u001b[39m\u001b[38;5;124mwater_g\u001b[39m\u001b[38;5;124m'\u001b[39m, shap_values, input_test,interaction_index\u001b[38;5;241m=\u001b[39m\u001b[38;5;124m'\u001b[39m\u001b[38;5;124mlipid_g\u001b[39m\u001b[38;5;124m'\u001b[39m)\n",
      "\u001b[0;31mNameError\u001b[0m: name 'shap' is not defined"
     ]
    }
   ],
   "source": [
    "shap.dependence_plot('water_g', shap_values, input_test,interaction_index='lipid_g')"
   ]
  },
  {
   "cell_type": "markdown",
   "metadata": {},
   "source": []
  }
 ],
 "metadata": {
  "kernelspec": {
   "display_name": "venv",
   "language": "python",
   "name": "python3"
  },
  "language_info": {
   "codemirror_mode": {
    "name": "ipython",
    "version": 3
   },
   "file_extension": ".py",
   "mimetype": "text/x-python",
   "name": "python",
   "nbconvert_exporter": "python",
   "pygments_lexer": "ipython3",
   "version": "3.11.6"
  }
 },
 "nbformat": 4,
 "nbformat_minor": 2
}
